{
 "cells": [
  {
   "cell_type": "markdown",
   "id": "32ffe6d6",
   "metadata": {},
   "source": [
    "# 1.What are the two values of the Boolean data type? How do you write them?"
   ]
  },
  {
   "cell_type": "markdown",
   "id": "04319698",
   "metadata": {},
   "source": [
    "Ans: The two values of boolean data type are True and False. We have to use capital T and F and with the rest of the word in lowercase. "
   ]
  },
  {
   "cell_type": "code",
   "execution_count": 3,
   "id": "a8ae0f74",
   "metadata": {},
   "outputs": [
    {
     "name": "stdout",
     "output_type": "stream",
     "text": [
      "True <class 'bool'>\n",
      "False <class 'bool'>\n"
     ]
    }
   ],
   "source": [
    "a=True\n",
    "b=False\n",
    "print(a,type(a))\n",
    "print(b,type(b))"
   ]
  },
  {
   "cell_type": "markdown",
   "id": "0812e369",
   "metadata": {},
   "source": [
    "# 2. What are the three different types of Boolean operators?"
   ]
  },
  {
   "cell_type": "markdown",
   "id": "32a5a3f0",
   "metadata": {},
   "source": [
    "Ans: The three differnt types of Boolean operators in python are: \n",
    "       \n",
    "    1.AND\n",
    "    2.OR\n",
    "    3.NOT"
   ]
  },
  {
   "cell_type": "code",
   "execution_count": 4,
   "id": "dbc40454",
   "metadata": {},
   "outputs": [
    {
     "name": "stdout",
     "output_type": "stream",
     "text": [
      "True\n",
      "True\n",
      "False\n"
     ]
    }
   ],
   "source": [
    "a=100\n",
    "b=200\n",
    "print(a>50 and b>100) # Example of boolean and\n",
    "print(a>200 or b>100) # Example of boolean or\n",
    "print(not(a>10)) # Example of boolean not"
   ]
  },
  {
   "cell_type": "markdown",
   "id": "ec71b46e",
   "metadata": {},
   "source": [
    "# 3. Make a list of each Boolean operator's truth tables (i.e. every possible combination of Boolean values for the operator and what it evaluate) ?"
   ]
  },
  {
   "cell_type": "markdown",
   "id": "e3ece226",
   "metadata": {},
   "source": [
    "Ans: The Truth tables for the boolean tables are as follows:"
   ]
  },
  {
   "cell_type": "markdown",
   "id": "c38cfa9b",
   "metadata": {},
   "source": [
    ".Truth Table for and operator:\n",
    "    \n",
    "->True and True = True\n",
    "->True and False = False\n",
    "->False and True = False\n",
    "->False and False = False"
   ]
  },
  {
   "cell_type": "markdown",
   "id": "2a1ea6b0",
   "metadata": {},
   "source": [
    ".Truth Table for or operator:\n",
    "    \n",
    "->True and True = True\n",
    "->True and False = True\n",
    "->False and True = True\n",
    "->False and False = False"
   ]
  },
  {
   "cell_type": "markdown",
   "id": "dad25b94",
   "metadata": {},
   "source": [
    ".Truth Table for not operator:\n",
    "    \n",
    "->True not = False \n",
    "->False not = True"
   ]
  },
  {
   "cell_type": "markdown",
   "id": "6f4a9554",
   "metadata": {},
   "source": [
    "# 4. What are the values of the following expressions ?"
   ]
  },
  {
   "cell_type": "markdown",
   "id": "aff9b6f7",
   "metadata": {},
   "source": [
    "-> (5 > 4) and (3 == 5)\n",
    "-> not (5 > 4)\n",
    "-> (5 > 4) or (3 == 5)\n",
    "-> not ((5 > 4) or (3 == 5))\n",
    "-> (True and True) and (True == False)\n",
    "-> (not False) or (not True)"
   ]
  },
  {
   "cell_type": "code",
   "execution_count": 5,
   "id": "5b3bc3b0",
   "metadata": {},
   "outputs": [
    {
     "name": "stdout",
     "output_type": "stream",
     "text": [
      "False\n",
      "False\n",
      "True\n",
      "False\n",
      "False\n",
      "True\n"
     ]
    }
   ],
   "source": [
    "print((5>4)and(3==5))   #False\n",
    "print(not(5>4))   #False\n",
    "print((5>4)or(3==5))   #True\n",
    "print(not((5>4)or(3==5)))   # False\n",
    "print((True and True)and(True==False))   # False\n",
    "print((not False)or(not True))   # True"
   ]
  },
  {
   "cell_type": "markdown",
   "id": "bee4a89a",
   "metadata": {},
   "source": [
    "# 5. What are the six comparison operators?"
   ]
  },
  {
   "cell_type": "markdown",
   "id": "063819f5",
   "metadata": {},
   "source": [
    "The Six comparision operators available in python are:\n",
    "== :is equal to\n",
    "!= :is not equal to\n",
    "<  :is less than  \n",
    ">  :is greater than\n",
    "<= :is less than or equal to\n",
    "=> :is greater than or equal to"
   ]
  },
  {
   "cell_type": "markdown",
   "id": "db40335b",
   "metadata": {},
   "source": [
    "# 6. How do you tell the difference between the equal to and assignment operators?Describe a condition and when you would use one ?"
   ]
  },
  {
   "cell_type": "markdown",
   "id": "f8cb5894",
   "metadata": {},
   "source": [
    "Ans: \n",
    "' = ' : single equals to sign is used for the assignment operation.\n",
    "' == ' : double equals to sign is used for the equal to condition check.\n",
    "    \n",
    "When we want to assign something (eg. a = 10) we use the assignment operator. whereas when we want to check some condition (eg. 10 == 100) we use the equal to condition check operator.\n"
   ]
  },
  {
   "cell_type": "code",
   "execution_count": 1,
   "id": "07712c00",
   "metadata": {
    "scrolled": true
   },
   "outputs": [
    {
     "name": "stdout",
     "output_type": "stream",
     "text": [
      "ham\n",
      "spam\n",
      "spam\n"
     ]
    }
   ],
   "source": [
    "spam = 0\n",
    "\n",
    "if spam == 10:  ## Block 1\n",
    "    print('eggs')\n",
    "    \n",
    "if spam > 5:    ## Block 2\n",
    "    print('bacon')\n",
    "else:           ## Block 3\n",
    "    print('ham')\n",
    "    \n",
    "print('spam')\n",
    "print('spam')"
   ]
  },
  {
   "cell_type": "markdown",
   "id": "1ebf434e",
   "metadata": {},
   "source": [
    "# 8. Write code that prints Hello if 1 is stored in spam, prints Howdy if 2 is stored in spam, and prints Greetings! if anything else is stored in spam."
   ]
  },
  {
   "cell_type": "code",
   "execution_count": 2,
   "id": "094d7cea",
   "metadata": {},
   "outputs": [
    {
     "name": "stdout",
     "output_type": "stream",
     "text": [
      "Hello\n"
     ]
    }
   ],
   "source": [
    "spam=1\n",
    "\n",
    "if spam==1:\n",
    "    print('Hello')\n",
    "elif spam==2:\n",
    "    print('Howdy')\n",
    "else:\n",
    "    print('Greetings')\n",
    "    "
   ]
  },
  {
   "cell_type": "markdown",
   "id": "c47ca1b7",
   "metadata": {},
   "source": [
    "# 9.If your programme is stuck in an endless loop, what keys you’ll press?"
   ]
  },
  {
   "cell_type": "markdown",
   "id": "0d939c4b",
   "metadata": {},
   "source": [
    "Ans: 1.Press Ctrl + C on the command line.\n",
    "     2.Restart the kernel."
   ]
  },
  {
   "cell_type": "markdown",
   "id": "9f561662",
   "metadata": {},
   "source": [
    "# 10. How can you tell the difference between break and continue?"
   ]
  },
  {
   "cell_type": "markdown",
   "id": "48a58e53",
   "metadata": {},
   "source": [
    "-> Break: It is used to break the loop and exit from the loop\n",
    "-> continue: It is used to skip the current iteration of the loop and continue with the next iteration."
   ]
  },
  {
   "cell_type": "markdown",
   "id": "e785930a",
   "metadata": {},
   "source": [
    "# 11. In a for loop, what is the difference between range(10), range(0, 10), and range(0, 10, 1)?"
   ]
  },
  {
   "cell_type": "markdown",
   "id": "4f4f437c",
   "metadata": {},
   "source": [
    "Ans: There is no difference.They all do the same thing. \n",
    "    \n",
    "1.The range(10) call range from 0 to 9 (but not include 10)\n",
    "2.The range (0,10) explicitly tells the loop to start at 0\n",
    "3.The range(0,10,1) explicitly tells the loop to increase the variable by 1 on each iteration "
   ]
  },
  {
   "cell_type": "markdown",
   "id": "0e9c05bf",
   "metadata": {},
   "source": [
    "# 12. Write a short program that prints the numbers 1 to 10 using a for loop. Then write an equivalent program that prints the numbers 1 to 10 using a while loop."
   ]
  },
  {
   "cell_type": "code",
   "execution_count": 1,
   "id": "21619dc5",
   "metadata": {},
   "outputs": [
    {
     "name": "stdout",
     "output_type": "stream",
     "text": [
      "1 2 3 4 5 6 7 8 9 10 "
     ]
    }
   ],
   "source": [
    "# Using for loop\n",
    "\n",
    "for i in range(1, 11):\n",
    "    print(i, end = ' ')"
   ]
  },
  {
   "cell_type": "code",
   "execution_count": 2,
   "id": "4df5c007",
   "metadata": {},
   "outputs": [
    {
     "name": "stdout",
     "output_type": "stream",
     "text": [
      "1 2 3 4 5 6 7 8 9 10 "
     ]
    }
   ],
   "source": [
    "# Using while loop\n",
    "\n",
    "i = 1\n",
    "while i < 11:\n",
    "    print(i, end = ' ')\n",
    "    i= i+1"
   ]
  },
  {
   "cell_type": "markdown",
   "id": "5d22ce3f",
   "metadata": {},
   "source": [
    "# 13. If you had a function named bacon() inside a module named spam, how would you call it after importing spam?"
   ]
  },
  {
   "cell_type": "markdown",
   "id": "6494c174",
   "metadata": {},
   "source": [
    "Ans:This function can be called with spam.bacon() .\n",
    "    \n",
    "Ex:\n",
    "import spam\n",
    "spam.bacon()"
   ]
  }
 ],
 "metadata": {
  "kernelspec": {
   "display_name": "Python 3",
   "language": "python",
   "name": "python3"
  },
  "language_info": {
   "codemirror_mode": {
    "name": "ipython",
    "version": 3
   },
   "file_extension": ".py",
   "mimetype": "text/x-python",
   "name": "python",
   "nbconvert_exporter": "python",
   "pygments_lexer": "ipython3",
   "version": "3.8.8"
  }
 },
 "nbformat": 4,
 "nbformat_minor": 5
}
