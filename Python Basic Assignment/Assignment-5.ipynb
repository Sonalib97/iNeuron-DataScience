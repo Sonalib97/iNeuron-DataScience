{
 "cells": [
  {
   "cell_type": "code",
   "execution_count": null,
   "id": "b05a15f1",
   "metadata": {},
   "outputs": [],
   "source": [
    "\n",
    "2. What is the value of a dictionary value with the key &#39;foo&#39; and the value 42?\n",
    "3. \n",
    "4. What happens if you try to access spam[&#39;foo&#39;] if spam is {&#39;bar&#39;: 100}?\n",
    "5. If a dictionary is stored in spam, what is the difference between the expressions &#39;cat&#39; in spam and\n",
    "&#39;cat&#39; in spam.keys()?\n",
    "6. If a dictionary is stored in spam, what is the difference between the expressions &#39;cat&#39; in spam and\n",
    "&#39;cat&#39; in spam.values()?\n",
    "\n",
    "8. How do you &quot;pretty print&quot; dictionary values using which module and function?"
   ]
  },
  {
   "cell_type": "markdown",
   "id": "a18d3abf",
   "metadata": {},
   "source": [
    "# 1. What does an empty dictionary's code look like?\n"
   ]
  },
  {
   "cell_type": "raw",
   "id": "ea6e3e69",
   "metadata": {},
   "source": [
    "A: An empty dictionary's code look like two curly brackets:  {}"
   ]
  },
  {
   "cell_type": "markdown",
   "id": "33df327c",
   "metadata": {},
   "source": [
    "# 2.What is the value of a dictionary value with the key 'foo' and the value 42?"
   ]
  },
  {
   "cell_type": "raw",
   "id": "ab8d7121",
   "metadata": {},
   "source": [
    "A: The value of a dictionary value with the key 'foo' and the value 42 is {'foo': 42}."
   ]
  },
  {
   "cell_type": "code",
   "execution_count": 1,
   "id": "ad247a01",
   "metadata": {},
   "outputs": [
    {
     "data": {
      "text/plain": [
       "{'foo': 42}"
      ]
     },
     "execution_count": 1,
     "metadata": {},
     "output_type": "execute_result"
    }
   ],
   "source": [
    "dic = {'foo' : 42}\n",
    "dic"
   ]
  },
  {
   "cell_type": "markdown",
   "id": "184d1e14",
   "metadata": {},
   "source": [
    "# 3.What is the most significant distinction between a dictionary and a list?"
   ]
  },
  {
   "cell_type": "raw",
   "id": "4e3f2f0e",
   "metadata": {},
   "source": [
    "A: The items in a list are ordered items, while the items stored in a dictionary are unordered."
   ]
  },
  {
   "cell_type": "markdown",
   "id": "95531d31",
   "metadata": {},
   "source": [
    "# 4.What happens if you try to access spam['foo'] if spam is {'bar': 100}?\n",
    "\n"
   ]
  },
  {
   "cell_type": "code",
   "execution_count": 3,
   "id": "8d39fa83",
   "metadata": {},
   "outputs": [
    {
     "ename": "KeyError",
     "evalue": "'foo'",
     "output_type": "error",
     "traceback": [
      "\u001b[1;31m---------------------------------------------------------------------------\u001b[0m",
      "\u001b[1;31mKeyError\u001b[0m                                  Traceback (most recent call last)",
      "\u001b[1;32m<ipython-input-3-a9492f4b720a>\u001b[0m in \u001b[0;36m<module>\u001b[1;34m\u001b[0m\n\u001b[0;32m      1\u001b[0m \u001b[0mspam\u001b[0m\u001b[1;33m=\u001b[0m\u001b[1;33m{\u001b[0m\u001b[1;34m'bar'\u001b[0m\u001b[1;33m:\u001b[0m \u001b[1;36m100\u001b[0m\u001b[1;33m}\u001b[0m\u001b[1;33m\u001b[0m\u001b[1;33m\u001b[0m\u001b[0m\n\u001b[1;32m----> 2\u001b[1;33m \u001b[0mspam\u001b[0m\u001b[1;33m[\u001b[0m\u001b[1;34m'foo'\u001b[0m\u001b[1;33m]\u001b[0m\u001b[1;33m\u001b[0m\u001b[1;33m\u001b[0m\u001b[0m\n\u001b[0m",
      "\u001b[1;31mKeyError\u001b[0m: 'foo'"
     ]
    }
   ],
   "source": [
    "spam={'bar': 100}\n",
    "spam['foo']"
   ]
  },
  {
   "cell_type": "raw",
   "id": "57b611e2",
   "metadata": {},
   "source": [
    "A: We will get a Key error."
   ]
  },
  {
   "cell_type": "markdown",
   "id": "bfb56163",
   "metadata": {},
   "source": [
    "# 5.If a dictionary is stored in spam, what is the difference between the expressions 'cat' in spam and 'cat' in spam.keys()?"
   ]
  },
  {
   "cell_type": "raw",
   "id": "c596e553",
   "metadata": {},
   "source": [
    "A: There is no difference. The in operator checks whether a value exists as a key in the dictionary."
   ]
  },
  {
   "cell_type": "markdown",
   "id": "de7372b4",
   "metadata": {},
   "source": [
    "# 6.If a dictionary is stored in spam, what is the difference between the expressions 'cat' in spam and 'cat' in spam.values()?"
   ]
  },
  {
   "cell_type": "raw",
   "id": "41bf1cde",
   "metadata": {},
   "source": [
    "A: 'cat' in spam checks whether there is a 'cat' key in the dictionary, while 'cat' in spam.values() checks whether there is a value 'cat' for one of the keys in spam."
   ]
  },
  {
   "cell_type": "markdown",
   "id": "37d8569e",
   "metadata": {},
   "source": [
    "# 7. What is a shortcut for the following code?"
   ]
  },
  {
   "cell_type": "raw",
   "id": "0d53420a",
   "metadata": {},
   "source": [
    "#if 'color' not in spam:\n",
    "#spam['color'] = 'black'"
   ]
  },
  {
   "cell_type": "raw",
   "id": "328ba6a7",
   "metadata": {},
   "source": [
    "A: spam.setdefault('color', 'black')"
   ]
  },
  {
   "cell_type": "markdown",
   "id": "90511754",
   "metadata": {},
   "source": [
    "# 8.How do you \"pretty print\" dictionary values using which module and function?"
   ]
  },
  {
   "cell_type": "raw",
   "id": "dd54dbb2",
   "metadata": {},
   "source": [
    "pprint.pprint()"
   ]
  }
 ],
 "metadata": {
  "kernelspec": {
   "display_name": "Python 3",
   "language": "python",
   "name": "python3"
  },
  "language_info": {
   "codemirror_mode": {
    "name": "ipython",
    "version": 3
   },
   "file_extension": ".py",
   "mimetype": "text/x-python",
   "name": "python",
   "nbconvert_exporter": "python",
   "pygments_lexer": "ipython3",
   "version": "3.8.8"
  }
 },
 "nbformat": 4,
 "nbformat_minor": 5
}
