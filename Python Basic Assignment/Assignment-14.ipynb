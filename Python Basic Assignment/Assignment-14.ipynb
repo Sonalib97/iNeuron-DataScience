{
 "cells": [
  {
   "cell_type": "markdown",
   "id": "40e15e98",
   "metadata": {},
   "source": [
    "1. What does RGBA stand for?"
   ]
  },
  {
   "cell_type": "markdown",
   "id": "3e129621",
   "metadata": {},
   "source": [
    "Ans: \n",
    "RGBA: Red-Green-Blue-Alpha"
   ]
  },
  {
   "cell_type": "markdown",
   "id": "8b1cc958",
   "metadata": {},
   "source": [
    "2.From the Pillow module, how do you get the RGBA value of any images?"
   ]
  },
  {
   "cell_type": "markdown",
   "id": "32ec52a9",
   "metadata": {},
   "source": [
    "Ans:\n",
    "from PIL import ImageColor\n",
    "\n",
    "ImageColor.getcolor(color_name, 'RGBA')"
   ]
  },
  {
   "cell_type": "markdown",
   "id": "a2ff9b11",
   "metadata": {},
   "source": [
    "3. What is a box tuple, and how does it work?"
   ]
  },
  {
   "cell_type": "markdown",
   "id": "6ea38c3d",
   "metadata": {},
   "source": [
    "Ans:\n",
    "Many Pillow's function take box tuple argument. This means pillow is taking a tuple of four integer coordinates that expecting a rectangular region in image. The four integers are in order left, top, right, bottom."
   ]
  },
  {
   "cell_type": "markdown",
   "id": "86de55dc",
   "metadata": {},
   "source": [
    "4. Use your image and load in notebook then, How can you find out the width and height of an\n",
    "Image object?"
   ]
  },
  {
   "cell_type": "code",
   "execution_count": 4,
   "id": "837aed09",
   "metadata": {},
   "outputs": [
    {
     "name": "stdout",
     "output_type": "stream",
     "text": [
      "width= 1025\n",
      "height= 727\n"
     ]
    }
   ],
   "source": [
    "from PIL import Image\n",
    "im=Image.open(\"C:\\\\Users\\\\bhadr\\\\Pictures\\\\Screenshots\\\\Ganesha.png\")\n",
    "width, height = im.size\n",
    "print(\"width=\", width)\n",
    "print(\"height=\", height)"
   ]
  },
  {
   "cell_type": "markdown",
   "id": "d93e38ff",
   "metadata": {},
   "source": [
    "5. What method would you call to get Image object for a 100×100 image, excluding the lower-left\n",
    "quarter of it?"
   ]
  },
  {
   "cell_type": "markdown",
   "id": "155d5b4f",
   "metadata": {},
   "source": [
    "Ans:\n",
    "from PIL import Image\n",
    "\n",
    "Image.new('RGBA', (100,100))"
   ]
  },
  {
   "cell_type": "markdown",
   "id": "7a1bcec6",
   "metadata": {},
   "source": [
    "6. After making changes to an Image object, how could you save it as an image file?"
   ]
  },
  {
   "cell_type": "markdown",
   "id": "e8cfb49d",
   "metadata": {},
   "source": [
    "Ans:\n",
    "save(filename)"
   ]
  },
  {
   "cell_type": "markdown",
   "id": "2bf71774",
   "metadata": {},
   "source": [
    "7. What module contains Pillow’s shape-drawing code?"
   ]
  },
  {
   "cell_type": "markdown",
   "id": "684d27c7",
   "metadata": {},
   "source": [
    "Ans:\n",
    "ImageDraw"
   ]
  },
  {
   "cell_type": "markdown",
   "id": "9c9f3ada",
   "metadata": {},
   "source": [
    "8. Image objects do not have drawing methods. What kind of object does? How do you get this kind\n",
    "of object?"
   ]
  },
  {
   "cell_type": "markdown",
   "id": "c3dacf88",
   "metadata": {},
   "source": [
    "Ans:\n",
    "wand.drawing.Drawing object has drawing methods.\n",
    "\n",
    "It can be got this way:\n",
    "\n",
    "from wand.drawing import Drawing"
   ]
  }
 ],
 "metadata": {
  "kernelspec": {
   "display_name": "Python 3 (ipykernel)",
   "language": "python",
   "name": "python3"
  },
  "language_info": {
   "codemirror_mode": {
    "name": "ipython",
    "version": 3
   },
   "file_extension": ".py",
   "mimetype": "text/x-python",
   "name": "python",
   "nbconvert_exporter": "python",
   "pygments_lexer": "ipython3",
   "version": "3.11.5"
  }
 },
 "nbformat": 4,
 "nbformat_minor": 5
}
