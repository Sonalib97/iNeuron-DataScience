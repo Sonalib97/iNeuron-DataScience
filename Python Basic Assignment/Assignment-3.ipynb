{
 "cells": [
  {
   "cell_type": "markdown",
   "id": "668baf13",
   "metadata": {},
   "source": [
    "# 1. Why are functions advantageous to have in your programs?"
   ]
  },
  {
   "cell_type": "markdown",
   "id": "fcb12d44",
   "metadata": {},
   "source": [
    "Ans: Functions reduce the need for duplicate code. This makes programs shorter, easier to read, and easier to update. The main advantage of functions is code Reusability."
   ]
  },
  {
   "cell_type": "markdown",
   "id": "693589a7",
   "metadata": {},
   "source": [
    "# 2. When does the code in a function run: when it&#39;s specified or when it&#39;s called?\n"
   ]
  },
  {
   "cell_type": "markdown",
   "id": "d8d2cce9",
   "metadata": {},
   "source": [
    "Ans: The code in a function runs when the function is called, not when the function is specified."
   ]
  },
  {
   "cell_type": "markdown",
   "id": "9dee7d62",
   "metadata": {},
   "source": [
    "# 3. What statement creates a function?"
   ]
  },
  {
   "cell_type": "markdown",
   "id": "f6e5190b",
   "metadata": {},
   "source": [
    "Ans: The 'def' statement defines, i.e. creates a function.\n",
    "def(keyword) followed by function_name then parentheses.\n",
    "\n",
    "def function_name():    "
   ]
  },
  {
   "cell_type": "markdown",
   "id": "abbd3ec6",
   "metadata": {},
   "source": [
    "# 4. What is the difference between a function and a function call?\n"
   ]
  },
  {
   "cell_type": "markdown",
   "id": "65cedb75",
   "metadata": {},
   "source": [
    "Ans:\n",
    "-> Function: Function is set of codes which produce some result. Function is useless unless it is invoked or called.\n",
    "-> Function Call: Function call is used to invoke or execute set of codes present inside the function."
   ]
  },
  {
   "cell_type": "code",
   "execution_count": 5,
   "id": "4a0b2970",
   "metadata": {},
   "outputs": [
    {
     "data": {
      "text/plain": [
       "'Inside the function 4'"
      ]
     },
     "execution_count": 5,
     "metadata": {},
     "output_type": "execute_result"
    }
   ],
   "source": [
    "def fun4():        # function\n",
    "    return \"Inside the function 4\"\n",
    "\n",
    "fun4()             # function call"
   ]
  },
  {
   "cell_type": "markdown",
   "id": "043a7764",
   "metadata": {},
   "source": [
    "# 5. How many global scopes are there in a Python program? How many local scopes?"
   ]
  },
  {
   "cell_type": "markdown",
   "id": "af39f51d",
   "metadata": {},
   "source": [
    " Ans:There are 1 global scope and 1 local scope is created whenever a function is called."
   ]
  },
  {
   "cell_type": "markdown",
   "id": "21a277e4",
   "metadata": {},
   "source": [
    "# 6. What happens to variables in a local scope when the function call returns?\n"
   ]
  },
  {
   "cell_type": "markdown",
   "id": "11b81612",
   "metadata": {},
   "source": [
    "Ans: When a function returns, the local scope is destroyed, and all the variables in it are forgotten."
   ]
  },
  {
   "cell_type": "markdown",
   "id": "dea87195",
   "metadata": {},
   "source": [
    "# 7. What is the concept of a return value? Is it possible to have a return value in an expression?"
   ]
  },
  {
   "cell_type": "markdown",
   "id": "3eccd57c",
   "metadata": {},
   "source": [
    "Ans:Return value is value, varible or expression which a function can return.\n",
    "\n",
    "Yes function return value can be an expression"
   ]
  },
  {
   "cell_type": "code",
   "execution_count": 4,
   "id": "6aa2f35c",
   "metadata": {},
   "outputs": [
    {
     "data": {
      "text/plain": [
       "40"
      ]
     },
     "execution_count": 4,
     "metadata": {},
     "output_type": "execute_result"
    }
   ],
   "source": [
    "def fun7(a,b):\n",
    "    return a+b+10  ## Returning the expression\n",
    "\n",
    "fun7(10, 20)"
   ]
  },
  {
   "cell_type": "markdown",
   "id": "0d6e1c19",
   "metadata": {},
   "source": [
    "# 8. If a function does not have a return statement, what is the return value of a call to that function?"
   ]
  },
  {
   "cell_type": "markdown",
   "id": "13c71947",
   "metadata": {},
   "source": [
    "Ans: If a function does not have a return statement that means the function is not returning any values.\n",
    "\n",
    "In this case after function is executed completly it will return a NoneType."
   ]
  },
  {
   "cell_type": "code",
   "execution_count": 3,
   "id": "e096206a",
   "metadata": {},
   "outputs": [
    {
     "data": {
      "text/plain": [
       "NoneType"
      ]
     },
     "execution_count": 3,
     "metadata": {},
     "output_type": "execute_result"
    }
   ],
   "source": [
    "def fun8():\n",
    "    a = 10\n",
    "    b = 80\n",
    "    \n",
    "type(fun8())"
   ]
  },
  {
   "cell_type": "markdown",
   "id": "007a5b80",
   "metadata": {},
   "source": [
    "# 9. How do you make a function variable refer to the global variable?"
   ]
  },
  {
   "cell_type": "markdown",
   "id": "894e75dd",
   "metadata": {},
   "source": [
    "Ans: This can be achieved by using global keyword to redefine the variable and make the changes of variable as global change."
   ]
  },
  {
   "cell_type": "code",
   "execution_count": 6,
   "id": "d3b0b922",
   "metadata": {},
   "outputs": [
    {
     "name": "stdout",
     "output_type": "stream",
     "text": [
      "0\n",
      "10\n"
     ]
    }
   ],
   "source": [
    "var1 = 0\n",
    "def fun9():\n",
    "    global var1\n",
    "    var1 = 10\n",
    "    \n",
    "print(var1)\n",
    "fun9()\n",
    "print(var1)"
   ]
  },
  {
   "cell_type": "markdown",
   "id": "a14b7566",
   "metadata": {},
   "source": [
    "# 10. What is the data type of None?"
   ]
  },
  {
   "cell_type": "markdown",
   "id": "7df119d5",
   "metadata": {},
   "source": [
    "Ans: The data type of None is NoneType."
   ]
  },
  {
   "cell_type": "markdown",
   "id": "8e0b6e7d",
   "metadata": {},
   "source": [
    "# 11. What does the sentence import areallyourpetsnamederic do?\n"
   ]
  },
  {
   "cell_type": "markdown",
   "id": "7c261121",
   "metadata": {},
   "source": [
    "Ans: The statement \"import areallyourpetsnamederic\" will import the module or package names as 'areallyourpetsnamederic'."
   ]
  },
  {
   "cell_type": "markdown",
   "id": "22b628f2",
   "metadata": {},
   "source": [
    "# 12. If you had a bacon() feature in a spam module, what would you call it after importing spam?"
   ]
  },
  {
   "cell_type": "markdown",
   "id": "1a4eaaf3",
   "metadata": {},
   "source": [
    "Ans: This function can be called with spam.bacon()."
   ]
  },
  {
   "cell_type": "markdown",
   "id": "b509479f",
   "metadata": {},
   "source": [
    "# 13. What can you do to save a programme from crashing if it encounters an error?"
   ]
  },
  {
   "cell_type": "markdown",
   "id": "9a67d4c6",
   "metadata": {},
   "source": [
    "Ans: Place the line of code that might cause an error in a try clause and use except block to handle the error."
   ]
  },
  {
   "cell_type": "markdown",
   "id": "0fb05682",
   "metadata": {},
   "source": [
    "# 14. What is the purpose of the try clause? What is the purpose of the except clause?"
   ]
  },
  {
   "cell_type": "markdown",
   "id": "adda575e",
   "metadata": {},
   "source": [
    "Ans:\n",
    "->Together try and except block is used to save programme from crashing when an error is encountered.\n",
    "->Try: Try block is used for any suspicious code which can throw a runtime error.\n",
    "->Except: Except block is used to catch error if any encountered inside try block."
   ]
  }
 ],
 "metadata": {
  "kernelspec": {
   "display_name": "Python 3",
   "language": "python",
   "name": "python3"
  },
  "language_info": {
   "codemirror_mode": {
    "name": "ipython",
    "version": 3
   },
   "file_extension": ".py",
   "mimetype": "text/x-python",
   "name": "python",
   "nbconvert_exporter": "python",
   "pygments_lexer": "ipython3",
   "version": "3.8.8"
  }
 },
 "nbformat": 4,
 "nbformat_minor": 5
}
