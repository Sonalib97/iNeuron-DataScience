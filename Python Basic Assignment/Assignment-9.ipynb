{
 "cells": [
  {
   "cell_type": "markdown",
   "id": "aaf9b6fd",
   "metadata": {},
   "source": [
    "# 1. To what does a relative path refer?"
   ]
  },
  {
   "cell_type": "code",
   "execution_count": null,
   "id": "89bbbcc1",
   "metadata": {},
   "outputs": [],
   "source": [
    "Relative paths are relative to the current working directory. When using relative path, we need to provide the absolute/complete path of file from the root directory, instead we can give the partial/relative path to indicate the file location."
   ]
  },
  {
   "cell_type": "markdown",
   "id": "2951ae93",
   "metadata": {},
   "source": [
    "# 2. What does an absolute path start with your operating system?"
   ]
  },
  {
   "cell_type": "code",
   "execution_count": null,
   "id": "0ffa1c50",
   "metadata": {},
   "outputs": [],
   "source": [
    "I am using Windows Operating System with Single Hard drive, so my absolute path starts with C:\\"
   ]
  },
  {
   "cell_type": "markdown",
   "id": "0a0d482a",
   "metadata": {},
   "source": [
    "# 3. What do the functions os.getcwd() and os.chdir() do?"
   ]
  },
  {
   "cell_type": "code",
   "execution_count": null,
   "id": "cc6d5398",
   "metadata": {},
   "outputs": [],
   "source": [
    ". os.getcwd() returns you the current working directory path\n",
    ". os.chdir() is used to change the current working directory while running the program"
   ]
  },
  {
   "cell_type": "markdown",
   "id": "1cba4c8f",
   "metadata": {},
   "source": [
    "# 4. What are the . and .. folders?"
   ]
  },
  {
   "cell_type": "code",
   "execution_count": null,
   "id": "c26cca70",
   "metadata": {},
   "outputs": [],
   "source": [
    ". single dot means the current folder\n",
    ".. double dot means the parent folder"
   ]
  },
  {
   "cell_type": "markdown",
   "id": "e7b6a5f0",
   "metadata": {},
   "source": [
    "# 5. In C:\\bacon\\eggs\\spam.txt, which part is the dir name, and which part is the base name?"
   ]
  },
  {
   "cell_type": "code",
   "execution_count": null,
   "id": "34885df2",
   "metadata": {},
   "outputs": [],
   "source": [
    ". C:\\bacon\\eggs is the dir name\n",
    ". spam.txt is the base name"
   ]
  },
  {
   "cell_type": "markdown",
   "id": "19cbc946",
   "metadata": {},
   "source": [
    "# 6. What are the three “mode” arguments that can be passed to the open() function?"
   ]
  },
  {
   "cell_type": "code",
   "execution_count": null,
   "id": "bd4ce745",
   "metadata": {},
   "outputs": [],
   "source": [
    "The three mode arguments that can be passed to the open() function are:\n",
    "\n",
    ".'r' for read mode\n",
    ".'w' for write mode\n",
    ".'a' for append mode."
   ]
  },
  {
   "cell_type": "markdown",
   "id": "3721be84",
   "metadata": {},
   "source": [
    "# 7. What happens if an existing file is opened in write mode?"
   ]
  },
  {
   "cell_type": "code",
   "execution_count": null,
   "id": "ea27e4ad",
   "metadata": {},
   "outputs": [],
   "source": [
    ".If an existing file is opened in write mode, then all the existing content from the file is erased and the new content will be added.\n",
    ".This might result in loss of data if you wanted to have both existing and new data to existing in the file"
   ]
  },
  {
   "cell_type": "markdown",
   "id": "03a4e556",
   "metadata": {},
   "source": [
    "# 8. How do you tell the difference between read() and readlines()?"
   ]
  },
  {
   "cell_type": "code",
   "execution_count": null,
   "id": "68696caa",
   "metadata": {},
   "outputs": [],
   "source": [
    ".The read() method returns the file’s entire contents as a single string value.\n",
    ".The readlines() method returns a list of strings, where each string is a line from the file’s contents."
   ]
  },
  {
   "cell_type": "markdown",
   "id": "ee601120",
   "metadata": {},
   "source": [
    "# 9. What data structure does a shelf value resemble?"
   ]
  },
  {
   "cell_type": "code",
   "execution_count": null,
   "id": "943a3dbd",
   "metadata": {},
   "outputs": [],
   "source": [
    "A shelf value resembles a dictionary value; it has keys and values, along with keys() and values() methods that work similarly to the dictionary methods of the same names."
   ]
  }
 ],
 "metadata": {
  "kernelspec": {
   "display_name": "Python 3 (ipykernel)",
   "language": "python",
   "name": "python3"
  },
  "language_info": {
   "codemirror_mode": {
    "name": "ipython",
    "version": 3
   },
   "file_extension": ".py",
   "mimetype": "text/x-python",
   "name": "python",
   "nbconvert_exporter": "python",
   "pygments_lexer": "ipython3",
   "version": "3.11.4"
  }
 },
 "nbformat": 4,
 "nbformat_minor": 5
}
