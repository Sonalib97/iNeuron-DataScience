{
 "cells": [
  {
   "cell_type": "markdown",
   "id": "6f372161",
   "metadata": {},
   "source": [
    "# 1. What is the name of the feature responsible for generating Regex objects?"
   ]
  },
  {
   "cell_type": "code",
   "execution_count": null,
   "id": "f556ba78",
   "metadata": {},
   "outputs": [],
   "source": [
    "Ans:\n",
    "re.compile()"
   ]
  },
  {
   "cell_type": "markdown",
   "id": "456519e2",
   "metadata": {},
   "source": [
    "# 2. Why do raw strings often appear in Regex objects?"
   ]
  },
  {
   "cell_type": "code",
   "execution_count": null,
   "id": "f426b245",
   "metadata": {},
   "outputs": [],
   "source": [
    "Ans:\n",
    "Raw string notation keeps regular expression meaningful and confusion free. Without it every backslash(' \\ ') in regular expression would have to be prefixed with another one to escape it."
   ]
  },
  {
   "cell_type": "markdown",
   "id": "1546c98f",
   "metadata": {},
   "source": [
    "# 3.What is the return value of the search() method?"
   ]
  },
  {
   "cell_type": "code",
   "execution_count": null,
   "id": "d2b3cb5a",
   "metadata": {},
   "outputs": [],
   "source": [
    "Ans:\n",
    "It returns a match object if there is a match else returns none."
   ]
  },
  {
   "cell_type": "markdown",
   "id": "fc62cd83",
   "metadata": {},
   "source": [
    "# 4. From a Match item, how do you get the actual strings that match the pattern?"
   ]
  },
  {
   "cell_type": "code",
   "execution_count": null,
   "id": "6c3bb0e5",
   "metadata": {},
   "outputs": [],
   "source": [
    "Ans:\n",
    "group() method returns the actual string that match the pattern."
   ]
  },
  {
   "cell_type": "markdown",
   "id": "ce83adc2",
   "metadata": {},
   "source": [
    "# 5. In the regex which created from the r'(\\d\\d\\d)-(\\d\\d\\d-\\d\\d\\d\\d)', what does group zero cover?Group 2? Group 1?"
   ]
  },
  {
   "cell_type": "code",
   "execution_count": null,
   "id": "36899985",
   "metadata": {},
   "outputs": [],
   "source": [
    "Ans:\n",
    "    \n",
    ". group 0 covers (\\d\\d\\d)-(\\d\\d\\d-\\d\\d\\d\\d)\n",
    ". group 1 covers (\\d\\d\\d)\n",
    ". group 2 covers (\\d\\d\\d-\\d\\d\\d\\d)"
   ]
  },
  {
   "cell_type": "markdown",
   "id": "4233b2fe",
   "metadata": {},
   "source": [
    "# 6. In standard expression syntax, parentheses and intervals have distinct meanings. How can you tell a regex that you want it to fit real parentheses and periods?"
   ]
  },
  {
   "cell_type": "code",
   "execution_count": null,
   "id": "dda11b80",
   "metadata": {},
   "outputs": [],
   "source": [
    "Ans:\n",
    "\\.,  \\(,  \\)"
   ]
  },
  {
   "cell_type": "markdown",
   "id": "f7c49d6f",
   "metadata": {},
   "source": [
    "# 7.The findall() method returns a string list or a list of string tuples. What causes it to return one of the two options?"
   ]
  },
  {
   "cell_type": "code",
   "execution_count": null,
   "id": "674bb5ea",
   "metadata": {},
   "outputs": [],
   "source": [
    "Ans:\n",
    "If there is a one group in the expression, findall() returns list of strings. If there is several groups in the expression, findall() returns list of tuple of strings."
   ]
  },
  {
   "cell_type": "markdown",
   "id": "4d7fbbf5",
   "metadata": {},
   "source": [
    "# 8.In standard expressions, what does the | character mean?"
   ]
  },
  {
   "cell_type": "code",
   "execution_count": null,
   "id": "48639deb",
   "metadata": {},
   "outputs": [],
   "source": [
    "Ans:\n",
    "It means either or."
   ]
  },
  {
   "cell_type": "markdown",
   "id": "15bc02b1",
   "metadata": {},
   "source": [
    "# 9.In regular expressions, what does the character stand for?"
   ]
  },
  {
   "cell_type": "code",
   "execution_count": null,
   "id": "820ae7b5",
   "metadata": {},
   "outputs": [],
   "source": [
    "Ans:\n",
    "Zero or one occerences"
   ]
  },
  {
   "cell_type": "markdown",
   "id": "14404aaa",
   "metadata": {},
   "source": [
    "# 10. In regular expressions, what is the difference between the + and * characters?"
   ]
  },
  {
   "cell_type": "code",
   "execution_count": null,
   "id": "01201d58",
   "metadata": {},
   "outputs": [],
   "source": [
    "Ans:\n",
    "' + ' refers one or more occurences\n",
    "' * ' refers zero or more occurences."
   ]
  },
  {
   "cell_type": "markdown",
   "id": "7d369949",
   "metadata": {},
   "source": [
    "# 11. What is the difference between {4} and {4,5} in regular expression?"
   ]
  },
  {
   "cell_type": "code",
   "execution_count": null,
   "id": "315e477c",
   "metadata": {},
   "outputs": [],
   "source": [
    "Ans:\n",
    ". {4} means preceding character is to be repeated 4 times.\n",
    ". {4,5} means preceding character is repeated minimum 4 times and maximum 5 times."
   ]
  },
  {
   "cell_type": "markdown",
   "id": "1bfc5553",
   "metadata": {},
   "source": [
    "# 12. What do you mean by the \\d, \\w, and \\s shorthand character classes signify in regular expressions?"
   ]
  },
  {
   "cell_type": "code",
   "execution_count": null,
   "id": "64876a98",
   "metadata": {},
   "outputs": [],
   "source": [
    "Ans:    \n",
    ". \\d returns a match where string contains digit(number from 0-9)\n",
    ". \\w returns a match where string contains any word character(character from a to Z, digit from 0 to 9 and underscore character)\n",
    ". \\s returns a match where string contains a whitespace character."
   ]
  },
  {
   "cell_type": "markdown",
   "id": "1d79b6ea",
   "metadata": {},
   "source": [
    "# 14. What is the difference between .? and .?"
   ]
  },
  {
   "cell_type": "code",
   "execution_count": null,
   "id": "7d31559e",
   "metadata": {},
   "outputs": [],
   "source": [
    "Ans:  \n",
    "' . ' accepts as many sequence as available(Greedy approach)\n",
    "' .? ' accepts the first matched sequence and then stops(Non-Greedy approach)."
   ]
  },
  {
   "cell_type": "markdown",
   "id": "6ee2a03b",
   "metadata": {},
   "source": [
    "# 15. What is the syntax for matching both numbers and lowercase letters with a character class?"
   ]
  },
  {
   "cell_type": "code",
   "execution_count": null,
   "id": "f25ee077",
   "metadata": {},
   "outputs": [],
   "source": [
    "Ans:\n",
    "[a-z0-9]"
   ]
  },
  {
   "cell_type": "markdown",
   "id": "9174db33",
   "metadata": {},
   "source": [
    "# 16. What is the procedure for making a normal expression in regax case insensitive?"
   ]
  },
  {
   "cell_type": "code",
   "execution_count": null,
   "id": "70e55460",
   "metadata": {},
   "outputs": [],
   "source": [
    "Ans:\n",
    "pass re.IGNORECASE to re.compile()"
   ]
  },
  {
   "cell_type": "markdown",
   "id": "dba1443f",
   "metadata": {},
   "source": [
    "# 17. What does the . character normally match? What does it match if re.DOTALL is passed as 2nd argument in re.compile()?"
   ]
  },
  {
   "cell_type": "code",
   "execution_count": null,
   "id": "74794cd0",
   "metadata": {},
   "outputs": [],
   "source": [
    "Ans:\n",
    "' . ' character normally pass any character except newline character. With the help of DOTALL, ' . ' character can match any character including newline."
   ]
  },
  {
   "cell_type": "markdown",
   "id": "868dbe8c",
   "metadata": {},
   "source": [
    "# 18. If numReg = re.compile(r'\\d+'), what will numReg.sub('X', '11 drummers, 10 pipers, five rings, 4 hen') return?"
   ]
  },
  {
   "cell_type": "code",
   "execution_count": null,
   "id": "6a41ebf0",
   "metadata": {},
   "outputs": [],
   "source": [
    "Ans:    \n",
    "'X drummers, X pipers, five rings, X hen'"
   ]
  },
  {
   "cell_type": "markdown",
   "id": "78d1872d",
   "metadata": {},
   "source": [
    "# 19. What does passing re.VERBOSE as the 2nd argument to re.compile() allow to do?"
   ]
  },
  {
   "cell_type": "code",
   "execution_count": null,
   "id": "c6ee314b",
   "metadata": {},
   "outputs": [],
   "source": [
    "Ans:    \n",
    "It allows to write regular expressin that look nicer and are more readable by allowing visually separate logical section of the pattern and add comments."
   ]
  },
  {
   "cell_type": "code",
   "execution_count": null,
   "id": "5a95c853",
   "metadata": {},
   "outputs": [],
   "source": []
  }
 ],
 "metadata": {
  "kernelspec": {
   "display_name": "Python 3 (ipykernel)",
   "language": "python",
   "name": "python3"
  },
  "language_info": {
   "codemirror_mode": {
    "name": "ipython",
    "version": 3
   },
   "file_extension": ".py",
   "mimetype": "text/x-python",
   "name": "python",
   "nbconvert_exporter": "python",
   "pygments_lexer": "ipython3",
   "version": "3.11.4"
  }
 },
 "nbformat": 4,
 "nbformat_minor": 5
}
