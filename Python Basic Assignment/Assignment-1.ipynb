{
 "cells": [
  {
   "cell_type": "markdown",
   "id": "fa7db4d6",
   "metadata": {},
   "source": [
    "# 1. In the below elements which of them are values or an expression? \n",
    "eg:- values can be integer or string and expressions will be mathematical operators.\n",
    "*,'hello', -87.8,-,/,+,6"
   ]
  },
  {
   "cell_type": "markdown",
   "id": "4cdf6e44",
   "metadata": {},
   "source": [
    "Ans: There are a total of 4 Operators and 3 Expressions.\n",
    "Operators: *,-,/,+\n",
    "Expressions: 'hello', 87.8, 6"
   ]
  },
  {
   "cell_type": "markdown",
   "id": "7630e874",
   "metadata": {},
   "source": [
    "# 2. What is the difference between string and variable?"
   ]
  },
  {
   "cell_type": "markdown",
   "id": "c492f325",
   "metadata": {},
   "source": [
    "Ans:A variable is used to store data. It takes memory space based on the data type we assign to it and a string is a data type which can be stored in a variable. A string is a group of characters or a single character enclosed within double quotes \" \" or single quotes ' '."
   ]
  },
  {
   "cell_type": "markdown",
   "id": "c8655a8b",
   "metadata": {},
   "source": [
    "# 3. Describe three different data types."
   ]
  },
  {
   "cell_type": "markdown",
   "id": "50ea990d",
   "metadata": {},
   "source": [
    "Ans:Three different data types in Python are:\n",
    "    .Numeric type: int,float,complex\n",
    "    .Text type: Str\n",
    "    .Boolean type: bool"
   ]
  },
  {
   "cell_type": "markdown",
   "id": "ff0f8c62",
   "metadata": {},
   "source": [
    "# 4. What is an expression made up of? What do all expressions do?"
   ]
  },
  {
   "cell_type": "markdown",
   "id": "37b92cc2",
   "metadata": {},
   "source": [
    "Ans: An expression is a combination of operators, variables, values. Expressions need to be evaluated .All expressions evaluate to a single value."
   ]
  },
  {
   "cell_type": "markdown",
   "id": "7cfed8cb",
   "metadata": {},
   "source": [
    "# 5. This assignment statements, like spam = 10. What is the difference between an expression and a statement?"
   ]
  },
  {
   "cell_type": "markdown",
   "id": "d6e75341",
   "metadata": {},
   "source": [
    "Ans: \n",
    "Statement:-\n",
    ".A statement in Python is used for creating variables or for displaying values. \n",
    ".Any Instruction that a python interpreter can execute is called a Statement.\n",
    ".Every statement can be an expression.\n",
    "    \n",
    "Expression:-  \n",
    ".The expression in Python produces some value or result after being interpreted by the Python interpreter.\n",
    ".Every expression can’t be a statement."
   ]
  },
  {
   "cell_type": "code",
   "execution_count": 1,
   "id": "9d6c970d",
   "metadata": {},
   "outputs": [
    {
     "name": "stdout",
     "output_type": "stream",
     "text": [
      "100\n"
     ]
    }
   ],
   "source": [
    "spam=10\n",
    "a=spam*10    #\"spam*10\" is an expression\n",
    "print(a)     #It is a statement."
   ]
  },
  {
   "cell_type": "markdown",
   "id": "78d260e8",
   "metadata": {},
   "source": [
    "# 6. After running the following code, what does the variable bacon contain?\n",
    "bacon = 22\n",
    "\n",
    "bacon + 1"
   ]
  },
  {
   "cell_type": "markdown",
   "id": "84597204",
   "metadata": {},
   "source": [
    "Ans: The variable bacon will contain 22.\n",
    "The bacon + 1 expression does not reassign the value in bacon."
   ]
  },
  {
   "cell_type": "code",
   "execution_count": 2,
   "id": "67ebcf1d",
   "metadata": {},
   "outputs": [
    {
     "data": {
      "text/plain": [
       "23"
      ]
     },
     "execution_count": 2,
     "metadata": {},
     "output_type": "execute_result"
    }
   ],
   "source": [
    "bacon = 22\n",
    "bacon + 1"
   ]
  },
  {
   "cell_type": "code",
   "execution_count": 3,
   "id": "e7d578c7",
   "metadata": {},
   "outputs": [
    {
     "name": "stdout",
     "output_type": "stream",
     "text": [
      "22\n"
     ]
    }
   ],
   "source": [
    "print(bacon)"
   ]
  },
  {
   "cell_type": "markdown",
   "id": "d679fa23",
   "metadata": {},
   "source": [
    "# 7. What should the values of the following two terms be?\n",
    "\n",
    ".'spam' + 'spamspam'\n",
    "\n",
    ".'spam' * 3\n"
   ]
  },
  {
   "cell_type": "markdown",
   "id": "cfd83471",
   "metadata": {},
   "source": [
    "Ans: Both expressions evaluate to the the string 'spamspamspam'.\n",
    "The first expression follows String Concatentation and the second expression follows String Multiplication."
   ]
  },
  {
   "cell_type": "markdown",
   "id": "e69459a3",
   "metadata": {},
   "source": [
    "# 8. Why is eggs a valid variable name while 100 is invalid?"
   ]
  },
  {
   "cell_type": "markdown",
   "id": "14bf6b82",
   "metadata": {},
   "source": [
    "Ans: Because in python, the variable name must start with an alphabet or underscore '_'.\n",
    "It can not start with a number."
   ]
  },
  {
   "cell_type": "code",
   "execution_count": 7,
   "id": "a371d3b0",
   "metadata": {},
   "outputs": [
    {
     "ename": "SyntaxError",
     "evalue": "cannot assign to literal (<ipython-input-7-9fcf1c13f295>, line 2)",
     "output_type": "error",
     "traceback": [
      "\u001b[1;36m  File \u001b[1;32m\"<ipython-input-7-9fcf1c13f295>\"\u001b[1;36m, line \u001b[1;32m2\u001b[0m\n\u001b[1;33m    100='iNeuron'\u001b[0m\n\u001b[1;37m    ^\u001b[0m\n\u001b[1;31mSyntaxError\u001b[0m\u001b[1;31m:\u001b[0m cannot assign to literal\n"
     ]
    }
   ],
   "source": [
    "#Ex:\n",
    "100='iNeuron'\n",
    "print(100)"
   ]
  },
  {
   "cell_type": "code",
   "execution_count": 6,
   "id": "cfecc6f9",
   "metadata": {},
   "outputs": [
    {
     "name": "stdout",
     "output_type": "stream",
     "text": [
      "Python\n"
     ]
    }
   ],
   "source": [
    "egg='Python'\n",
    "print(egg)"
   ]
  },
  {
   "cell_type": "markdown",
   "id": "b11fcec3",
   "metadata": {},
   "source": [
    "# 9. What three functions can be used to get the integer, floating-point number, or string version of a value?\n"
   ]
  },
  {
   "cell_type": "markdown",
   "id": "633e3769",
   "metadata": {},
   "source": [
    "Ans: The three functions to get the integer, floating-point number, or string version of a value are:\n",
    "for int : int()\n",
    "for float : float()\n",
    "for string : str()"
   ]
  },
  {
   "cell_type": "markdown",
   "id": "bf0bdd8a",
   "metadata": {},
   "source": [
    "# 10. Why does this expression cause an error? How can you fix it?\n",
    "'I have eaten' + 99 + ' burritos.'\n"
   ]
  },
  {
   "cell_type": "markdown",
   "id": "16e6a756",
   "metadata": {},
   "source": [
    "Ans:The expression causes an error because 99 is an integer, and only strings can be concatenated to other strings with the + operator.\n",
    "The correct way is:\n",
    "Input: 'I have eaten ' + str(99) + 'burritos.'\n",
    "Output: 'I have eaten 99 burritos.'"
   ]
  },
  {
   "cell_type": "code",
   "execution_count": 8,
   "id": "64c3fae5",
   "metadata": {},
   "outputs": [
    {
     "name": "stdout",
     "output_type": "stream",
     "text": [
      "I have eaten 99 burritos\n"
     ]
    }
   ],
   "source": [
    "print('I have eaten '+str(99)+' burritos')"
   ]
  }
 ],
 "metadata": {
  "kernelspec": {
   "display_name": "Python 3",
   "language": "python",
   "name": "python3"
  },
  "language_info": {
   "codemirror_mode": {
    "name": "ipython",
    "version": 3
   },
   "file_extension": ".py",
   "mimetype": "text/x-python",
   "name": "python",
   "nbconvert_exporter": "python",
   "pygments_lexer": "ipython3",
   "version": "3.8.8"
  }
 },
 "nbformat": 4,
 "nbformat_minor": 5
}
