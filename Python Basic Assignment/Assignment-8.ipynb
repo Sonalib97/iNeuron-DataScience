{
 "cells": [
  {
   "cell_type": "markdown",
   "id": "c6975aa6",
   "metadata": {},
   "source": [
    "# 1. Is the Python Standard Library included with PyInputPlus?"
   ]
  },
  {
   "cell_type": "code",
   "execution_count": null,
   "id": "1496640c",
   "metadata": {},
   "outputs": [],
   "source": [
    "A: PyInputPlus is not a part of the Python Standard Library, so we need to install it separately using Pip.\n",
    "\n",
    "#pip install PyInputPlus"
   ]
  },
  {
   "cell_type": "markdown",
   "id": "85197b26",
   "metadata": {},
   "source": [
    "# 2. Why is PyInputPlus commonly imported with import pyinputplus as pypi?"
   ]
  },
  {
   "cell_type": "code",
   "execution_count": null,
   "id": "73cbccf6",
   "metadata": {},
   "outputs": [],
   "source": [
    "A: pypi is alias of PyInputPlus. The as pyip code in the import statement saves us from typing pyinputplus each time we want to call a PyInputPlus function. Instead we can use the shorter pyip name.\n",
    "\n",
    "#import PyInputPlus as pypi"
   ]
  },
  {
   "cell_type": "markdown",
   "id": "aa20448f",
   "metadata": {},
   "source": [
    "# 3. How do you distinguish between inputInt() and inputFloat()?"
   ]
  },
  {
   "cell_type": "code",
   "execution_count": null,
   "id": "9f16252f",
   "metadata": {},
   "outputs": [],
   "source": [
    "A: \n",
    "inputInt() : Accepts an integer value, and returns int value\n",
    "\n",
    "inputFloat() : Accepts integer/floating point value and returns float value\n",
    "\n",
    "#Both takes additional parameters ‘min’, ‘max’, ‘greaterThan’ and ‘lessThan’ for bounds."
   ]
  },
  {
   "cell_type": "markdown",
   "id": "1883d69e",
   "metadata": {},
   "source": [
    "# 4. Using PyInputPlus, how do you ensure that the user enters a whole number between 0 and 99?"
   ]
  },
  {
   "cell_type": "code",
   "execution_count": null,
   "id": "9736a73c",
   "metadata": {},
   "outputs": [],
   "source": [
    "A: In the inputint function we can set the min = 0 and max =99 to ensure user enters number between 0 and 99.\n",
    "    \n",
    "#pyip.inputInt(min = 0, max =99)"
   ]
  },
  {
   "cell_type": "markdown",
   "id": "a17a5768",
   "metadata": {},
   "source": [
    "# 5. What is transferred to the keyword arguments allowRegexes and blockRegexes?"
   ]
  },
  {
   "cell_type": "code",
   "execution_count": null,
   "id": "36d500cd",
   "metadata": {},
   "outputs": [],
   "source": [
    "We can use regular expressions to specify whether an input is allowed or not.\n",
    "\n",
    "The allowRegexes and blockRegexes keyword arguments take a list of regular expression strings to determine what the PyInputPlus function will accept or reject as valid input.\n",
    "\n",
    "Example:\n",
    "\n",
    "pyip.inputNum(allowRegexes=[r'(I|V|X|L|C|D|M)+', r'zero']) # it allowes roman letters as numbers too\n",
    "pyip.inputNum(blockRegexes=[r\"[02468]$\"])# blocks the even numbers"
   ]
  },
  {
   "cell_type": "markdown",
   "id": "b8afcd4d",
   "metadata": {},
   "source": [
    "# 6. If a blank input is entered three times, what does inputStr(limit=3) do?"
   ]
  },
  {
   "cell_type": "code",
   "execution_count": null,
   "id": "39aab104",
   "metadata": {},
   "outputs": [],
   "source": [
    "inputStr(limit=3) will throw RetryLimitException exception."
   ]
  },
  {
   "cell_type": "markdown",
   "id": "cd37cc7c",
   "metadata": {},
   "source": [
    "# 7. If blank input is entered three times, what does inputStr(limit=3, default='hello') do?"
   ]
  },
  {
   "cell_type": "code",
   "execution_count": null,
   "id": "db9cba3d",
   "metadata": {},
   "outputs": [],
   "source": [
    "When you use limit keyword arguments and also pass a default keyword argument, the function returns the default value instead of raising an exception"
   ]
  }
 ],
 "metadata": {
  "kernelspec": {
   "display_name": "Python 3 (ipykernel)",
   "language": "python",
   "name": "python3"
  },
  "language_info": {
   "codemirror_mode": {
    "name": "ipython",
    "version": 3
   },
   "file_extension": ".py",
   "mimetype": "text/x-python",
   "name": "python",
   "nbconvert_exporter": "python",
   "pygments_lexer": "ipython3",
   "version": "3.11.4"
  }
 },
 "nbformat": 4,
 "nbformat_minor": 5
}
